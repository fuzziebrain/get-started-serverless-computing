{
 "metadata": {
  "language_info": {
   "codemirror_mode": {
    "name": "ipython",
    "version": 3
   },
   "file_extension": ".py",
   "mimetype": "text/x-python",
   "name": "python",
   "nbconvert_exporter": "python",
   "pygments_lexer": "ipython3",
   "version": "3.8.5"
  },
  "orig_nbformat": 2,
  "kernelspec": {
   "name": "bash",
   "display_name": "Bash",
   "language": "bash"
  },
  "metadata": {
   "interpreter": {
    "hash": "767d51c1340bd893661ea55ea3124f6de3c7a262a8b4abca0554b478b1e2ff90"
   }
  }
 },
 "nbformat": 4,
 "nbformat_minor": 2,
 "cells": [
  {
   "source": [
    "# OCR Demo\n",
    "\n",
    "## OCI Environment Preparation\n",
    "\n",
    "* Create the buckets `scans` and `pdfs`. Ensure that the `scans` bucket *Emit Object Events* attribute is enabled.\n",
    "* Create the `ScansBucketAccessPolicy` that include the following two statements:\n",
    "    ```\n",
    "    allow dynamic-group FaasDynamicGroup to read buckets in compartment Kscope21\n",
    "    allow dynamic-group FaasDynamicGroup to manage objects in compartment Kscope21 where any { target.bucket.name='scans', target.bucket.name='pdfs' }\n",
    "    ```\n",
    "\n",
    "## Develop and Deploy\n",
    "\n",
    "Load environment variables:\n"
   ],
   "cell_type": "markdown",
   "metadata": {}
  },
  {
   "cell_type": "code",
   "execution_count": null,
   "metadata": {},
   "outputs": [],
   "source": [
    ". kscope21-ocr.env"
   ]
  },
  {
   "source": [
    "Initialise the Fn project:"
   ],
   "cell_type": "markdown",
   "metadata": {}
  },
  {
   "cell_type": "code",
   "execution_count": null,
   "metadata": {},
   "outputs": [],
   "source": [
    "cd $PROJECT_ROOT/build/$APP_NAME && \\\n",
    "fn init --runtime python $FN_NAME"
   ]
  },
  {
   "source": [
    "Create the application using the subnet specified by the environment variable `SUBNET_OCID`:"
   ],
   "cell_type": "markdown",
   "metadata": {}
  },
  {
   "cell_type": "code",
   "execution_count": null,
   "metadata": {},
   "outputs": [],
   "source": [
    "fn create app $APP_NAME --annotation oracle.com/oci/subnetIds=[\\\"$SUBNET_OCID\\\"]"
   ]
  },
  {
   "source": [
    "Copy the sample code into the Fn project directory:"
   ],
   "cell_type": "markdown",
   "metadata": {}
  },
  {
   "cell_type": "code",
   "execution_count": null,
   "metadata": {},
   "outputs": [],
   "source": [
    "cd $PROJECT_ROOT && \\\n",
    "cp -r sample-code/$APP_NAME/$FN_NAME/* build/$APP_NAME/$FN_NAME/"
   ]
  },
  {
   "source": [
    "Configure the application's parameters:"
   ],
   "cell_type": "markdown",
   "metadata": {}
  },
  {
   "cell_type": "code",
   "execution_count": null,
   "metadata": {},
   "outputs": [],
   "source": [
    "fn config app $APP_NAME output_bucket pdfs"
   ]
  },
  {
   "source": [
    "Deploy the function:"
   ],
   "cell_type": "markdown",
   "metadata": {}
  },
  {
   "cell_type": "code",
   "execution_count": null,
   "metadata": {
    "tags": [
     "outputPrepend"
    ]
   },
   "outputs": [],
   "source": [
    "cd $PROJECT_ROOT/build/$APP_NAME/$FN_NAME && \\\n",
    "fn deploy -v --app $APP_NAME"
   ]
  },
  {
   "source": [
    "Setup OCI Event rule:\n",
    "\n",
    "1. Create the Event rule in compartment `Kscope21`.\n",
    "1. Select the service name *Object Storage*.\n",
    "1. Chose the following event types:\n",
    "    * `Object - Create`\n",
    "    * `Object - Update`\n",
    "    * `Object - Delete`\n",
    "1. Add a condition *Attribute* using the attribute name *bucketName*. Enter the value `scans`.\n",
    "1. Enable logging for troubleshooting."
   ],
   "cell_type": "markdown",
   "metadata": {}
  }
 ]
}