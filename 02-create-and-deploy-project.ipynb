{
 "metadata": {
  "language_info": {
   "codemirror_mode": {
    "name": "ipython",
    "version": 3
   },
   "file_extension": ".py",
   "mimetype": "text/x-python",
   "name": "python",
   "nbconvert_exporter": "python",
   "pygments_lexer": "ipython3",
   "version": "3.8.5"
  },
  "orig_nbformat": 2,
  "kernelspec": {
   "name": "bash",
   "display_name": "Bash",
   "language": "bash"
  },
  "metadata": {
   "interpreter": {
    "hash": "767d51c1340bd893661ea55ea3124f6de3c7a262a8b4abca0554b478b1e2ff90"
   }
  }
 },
 "nbformat": 4,
 "nbformat_minor": 2,
 "cells": [
  {
   "source": [
    "# Create and Deploy the Thumbnail Generator\n",
    "\n"
   ],
   "cell_type": "markdown",
   "metadata": {}
  },
  {
   "source": [
    "Load environment variables:"
   ],
   "cell_type": "markdown",
   "metadata": {}
  },
  {
   "cell_type": "code",
   "execution_count": 1,
   "metadata": {},
   "outputs": [],
   "source": [
    ". kscope21.env"
   ]
  },
  {
   "source": [
    "Create the Oracle Function Application directory:"
   ],
   "cell_type": "markdown",
   "metadata": {}
  },
  {
   "cell_type": "code",
   "execution_count": null,
   "metadata": {},
   "outputs": [],
   "source": [
    "mkdir $APP_NAME && cd $APP_NAME"
   ]
  },
  {
   "source": [
    "Initialise the Fn project:"
   ],
   "cell_type": "markdown",
   "metadata": {}
  },
  {
   "cell_type": "code",
   "execution_count": null,
   "metadata": {},
   "outputs": [],
   "source": [
    "fn init --runtime python thumbnail-generator"
   ]
  },
  {
   "source": [
    "Copy the sample code into the Fn project directory:"
   ],
   "cell_type": "markdown",
   "metadata": {}
  },
  {
   "cell_type": "code",
   "execution_count": 2,
   "metadata": {},
   "outputs": [],
   "source": [
    "cp -r sample-code/$APP_NAME/$FN_NAME/* $APP_NAME/$FN_NAME/"
   ]
  },
  {
   "source": [
    "Create the application using the subnet specified by the environment variable `SUBNET_OCID`:"
   ],
   "cell_type": "markdown",
   "metadata": {}
  },
  {
   "cell_type": "code",
   "execution_count": null,
   "metadata": {},
   "outputs": [],
   "source": [
    "fn create app $APP_NAME --annotation oracle.com/oci/subnetIds='[\"$SUBNET_OCID\"]'"
   ]
  },
  {
   "source": [
    "Configure the application's parameters:"
   ],
   "cell_type": "markdown",
   "metadata": {}
  },
  {
   "cell_type": "code",
   "execution_count": null,
   "metadata": {},
   "outputs": [],
   "source": [
    "fn config app $APP_NAME output-bucket thumbnails && \\\n",
    "fn config app $APP_NAME thumbnail-size-pixels 256"
   ]
  },
  {
   "source": [
    "Change the working directory and then deploy the function:"
   ],
   "cell_type": "markdown",
   "metadata": {}
  },
  {
   "cell_type": "code",
   "execution_count": null,
   "metadata": {},
   "outputs": [],
   "source": [
    "cd $FN_NAME && \\\n",
    "fn deploy -v --app $APP_NAME"
   ]
  }
 ]
}