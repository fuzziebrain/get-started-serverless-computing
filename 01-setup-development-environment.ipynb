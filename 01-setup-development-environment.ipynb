{
 "cells": [
  {
   "cell_type": "markdown",
   "metadata": {},
   "source": [
    "# Setup OCI and Development Environment\n",
    "\n",
    "This notebook walks you through the steps needed to setup your OCI tenancy and local workstation for Oracle Functions. \n",
    "\n",
    "## Prerequisites\n",
    "\n",
    "The following software **must** be installed:\n",
    "\n",
    "1. Docker\n",
    "1. Python 3\n"
   ]
  },
  {
   "cell_type": "markdown",
   "metadata": {},
   "source": [
    "## Install the OCI Command Line Interface (CLI)\n",
    "\n",
    "The following command installs the OCI CLI with the all the defaults:"
   ]
  },
  {
   "cell_type": "code",
   "execution_count": null,
   "metadata": {},
   "outputs": [],
   "source": [
    "bash -c \"$(curl -L https://raw.githubusercontent.com/oracle/oci-cli/master/scripts/install/install.sh)\" -- --accept-all-defaults"
   ]
  },
  {
   "cell_type": "markdown",
   "metadata": {},
   "source": [
    "Verify that the installation was successful:"
   ]
  },
  {
   "cell_type": "code",
   "execution_count": null,
   "metadata": {},
   "outputs": [],
   "source": [
    "oci --version"
   ]
  },
  {
   "cell_type": "markdown",
   "metadata": {},
   "source": [
    "## Install Fn CLI\n",
    "\n",
    "The following command installs the latest version of the Fn CLI:"
   ]
  },
  {
   "cell_type": "code",
   "execution_count": null,
   "metadata": {},
   "outputs": [],
   "source": [
    "curl -LSs https://raw.githubusercontent.com/fnproject/cli/master/install | sh"
   ]
  },
  {
   "cell_type": "markdown",
   "metadata": {},
   "source": [
    "Verify that the installation was successful:"
   ]
  },
  {
   "cell_type": "code",
   "execution_count": null,
   "metadata": {},
   "outputs": [],
   "source": [
    "fn --version"
   ]
  },
  {
   "cell_type": "markdown",
   "metadata": {},
   "source": [
    "## Setup OCI Environment\n",
    "\n",
    "1. Create Compartment `DEMO`.\n",
    "1. Create Virtual Cloud Network (VCN) `VCN-Demo` using the wizard with one public and **one private subnet**.\n",
    "1. Create IAM Group `FunctionsDevelopers`.\n",
    "1. Create IAM Policy `Fn-Demo-Policy` with the following statements:\n",
    "    ```\n",
    "    Allow group FunctionsDevelopers to manage repos in tenancy\n",
    "    Allow group FunctionsDevelopers to read objectstorage-namespaces in tenancy\n",
    "    Allow group FunctionsDevelopers to use virtual-network-family in compartment DEMO\n",
    "    Allow group FunctionsDevelopers to manage functions-family in compartment DEMO\n",
    "    Allow group FunctionsDevelopers to read metrics in compartment DEMO\n",
    "    Allow group FunctionsDevelopers to use apm-domains in compartment DEMO\n",
    "    Allow service faas to use apm-domains in compartment DEMO\n",
    "    ```\n",
    "1. Create IAM User `fndev`.\n",
    "1. Add user to group `FunctionsDevelopers`.\n",
    "1. Generate API Keys for user using the OCI console. Download both the API private and public keys.\n",
    "1. Copy the generated configuration template and store it in the file `~/.oci/config`. Change the profile name and update the `demo.env` variable `OCI_CLI_PROFILE`. Also update the `key_file` variable in this profile with the path of the downloaded private key.\n",
    "1. Generate Auth Token for user.\n",
    "1. Gather information from OCI and enter them into the file `demo.env` and load the environment variables.\n",
    "\n"
   ]
  },
  {
   "cell_type": "code",
   "execution_count": null,
   "metadata": {},
   "outputs": [],
   "source": [
    ". demo.env"
   ]
  },
  {
   "cell_type": "markdown",
   "metadata": {},
   "source": [
    "Test again that the OCI CLI is correctly configured."
   ]
  },
  {
   "cell_type": "code",
   "execution_count": null,
   "metadata": {},
   "outputs": [],
   "source": [
    "oci os ns get"
   ]
  },
  {
   "cell_type": "markdown",
   "metadata": {},
   "source": [
    "### Buckets and Resource Principal\n",
    "\n",
    "The Function that will be created, requires access to the Object Storage buckets. For *Resource Principal* authentication, we need to create a *Dynamic Group* that includes the Functions created in the target compartment.\n",
    "\n",
    "1. Create the Object Storage buckets `photos` and `thumbnails`.\n",
    "1. Ensure that the `photos` bucket *Emit Object Events* attribute is enabled.\n",
    "1. Get the compartment OCID and create the `FaasDynamicGroup` dynamic group, using the matching rule:\n",
    "    ```\n",
    "    All { resource.type = 'fnfunc', resource.compartment.id = '<compartment-ocid>' }\n",
    "    ```\n",
    "1. Create the `ImagesBucketAccessPolicy` that include the following two statements:\n",
    "    ```\n",
    "    allow dynamic-group FaasDynamicGroup to read buckets in compartment DEMO\n",
    "    allow dynamic-group FaasDynamicGroup to manage objects in compartment DEMO where any { target.bucket.name='photos', target.bucket.name='thumbnails' }\n",
    "    ```\n",
    "1. To allow Functions developers access to the same buckets, add the following statements:\n",
    "    ```\n",
    "    allow group FunctionsDevelopers to read buckets in compartment DEMO\n",
    "    allow group FunctionsDevelopers to manage objects in compartment DEMO where any { target.bucket.name='photos', target.bucket.name='thumbnails' }\n",
    "    ```\n",
    "    \n",
    "> For more information on how to set up buckets and policies, please see https://blogs.oracle.com/oraclemagazine/post/better-file-storage-in-oracle-cloud."
   ]
  },
  {
   "cell_type": "markdown",
   "metadata": {},
   "source": [
    "## Configure Fn Context\n",
    "\n",
    "The following FN CLI commands will perform the following:\n",
    "\n",
    "1. Create a new context and set it as the active context. Context configuration files are stored in the directory `~/.fn/contexts`.\n",
    "1. Set the required context parameters:\n",
    "    * `oracle.profile`\n",
    "    * `oracle.compartment-id`\n",
    "    * `api-url`\n",
    "    * `registry`"
   ]
  },
  {
   "cell_type": "code",
   "execution_count": null,
   "metadata": {},
   "outputs": [],
   "source": [
    "fn create context $FN_CONTEXT_NAME --provider oracle && \\\n",
    "fn use context $FN_CONTEXT_NAME && \\\n",
    "fn update context oracle.profile $OCI_CLI_PROFILE && \\\n",
    "fn update context oracle.compartment-id $COMPARTMENT_OCID && \\\n",
    "fn update context api-url \"https://functions.$REGION_ID.oci.oraclecloud.com\" && \\\n",
    "fn update context registry \"$REGION_KEY.ocir.io/$TENANCY_NAMESPACE/$APP_NAME\""
   ]
  },
  {
   "cell_type": "markdown",
   "metadata": {},
   "source": [
    "Check that all the required parameters were set correctly:"
   ]
  },
  {
   "cell_type": "code",
   "execution_count": null,
   "metadata": {},
   "outputs": [],
   "source": [
    "fn inspect context"
   ]
  },
  {
   "cell_type": "markdown",
   "metadata": {},
   "source": [
    "Check that the FN CLI has been configured correctly and can communicate with the OCI tenancy:"
   ]
  },
  {
   "cell_type": "code",
   "execution_count": null,
   "metadata": {},
   "outputs": [],
   "source": [
    "fn list apps"
   ]
  },
  {
   "cell_type": "markdown",
   "metadata": {},
   "source": [
    "## Login to OCIR\n",
    "\n",
    "Login to the OCIR using the format: \n",
    "\n",
    "```bash\n",
    "docker login <region-key>.ocir.io \n",
    "```\n",
    "\n",
    "> **Note.** The region key can be obtained from this [page](https://docs.oracle.com/en-us/iaas/Content/General/Concepts/regions.htm) in the OCI documentation.\n",
    "\n",
    "And the username should be in the following format: \n",
    "\n",
    "```\n",
    "<tenancy-namespace>/<username> \n",
    "```"
   ]
  },
  {
   "cell_type": "code",
   "execution_count": null,
   "metadata": {},
   "outputs": [],
   "source": [
    "docker logout && \\\n",
    "docker login $REGION_KEY.ocir.io --username $DOCKER_USERNAME --password $DOCKER_PASSWORD"
   ]
  },
  {
   "cell_type": "code",
   "execution_count": null,
   "metadata": {},
   "outputs": [],
   "source": []
  }
 ],
 "metadata": {
  "kernelspec": {
   "display_name": "Bash",
   "language": "bash",
   "name": "bash"
  },
  "language_info": {
   "codemirror_mode": "shell",
   "file_extension": ".sh",
   "mimetype": "text/x-sh",
   "name": "bash"
  }
 },
 "nbformat": 4,
 "nbformat_minor": 4
}
