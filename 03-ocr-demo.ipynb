{
 "cells": [
  {
   "cell_type": "markdown",
   "metadata": {},
   "source": [
    "# OCR Demo\n",
    "\n",
    "## OCI Environment Preparation\n",
    "\n",
    "* Create the buckets `scans` and `pdfs`. Ensure that the `scans` bucket *Emit Object Events* attribute is enabled.\n",
    "* Create the `ScansBucketAccessPolicy` that include the following two statements:\n",
    "    ```\n",
    "    allow dynamic-group FaasDynamicGroup to read buckets in compartment DEMO\n",
    "    allow dynamic-group FaasDynamicGroup to manage objects in compartment DEMO where any { target.bucket.name='scans', target.bucket.name='pdfs' }\n",
    "    ```\n",
    "\n",
    "## Develop and Deploy\n",
    "\n",
    "Load environment variables:\n"
   ]
  },
  {
   "cell_type": "code",
   "execution_count": null,
   "metadata": {},
   "outputs": [],
   "source": [
    ". demo-ocr.env"
   ]
  },
  {
   "cell_type": "markdown",
   "metadata": {},
   "source": [
    "Setup project folders:"
   ]
  },
  {
   "cell_type": "code",
   "execution_count": null,
   "metadata": {},
   "outputs": [],
   "source": [
    "mkdir -p $PROJECT_ROOT/build/$APP_NAME && \\\n",
    "cd $PROJECT_ROOT/build/$APP_NAME"
   ]
  },
  {
   "cell_type": "markdown",
   "metadata": {},
   "source": [
    "Copy the sample code into the Fn project directory:"
   ]
  },
  {
   "cell_type": "code",
   "execution_count": null,
   "metadata": {},
   "outputs": [],
   "source": [
    "cp -r $PROJECT_ROOT/sample-code/$APP_NAME/$FN_NAME $PROJECT_ROOT/build/$APP_NAME/"
   ]
  },
  {
   "cell_type": "markdown",
   "metadata": {},
   "source": [
    "Create the application using the subnet specified by the environment variable `SUBNET_OCID`:"
   ]
  },
  {
   "cell_type": "code",
   "execution_count": null,
   "metadata": {},
   "outputs": [],
   "source": [
    "fn create app $APP_NAME --annotation oracle.com/oci/subnetIds=[\\\"$SUBNET_OCID\\\"]"
   ]
  },
  {
   "cell_type": "markdown",
   "metadata": {},
   "source": [
    "Configure the application's parameters:"
   ]
  },
  {
   "cell_type": "code",
   "execution_count": null,
   "metadata": {},
   "outputs": [],
   "source": [
    "fn config app $APP_NAME output_bucket pdfs"
   ]
  },
  {
   "cell_type": "markdown",
   "metadata": {},
   "source": [
    "Deploy the function:"
   ]
  },
  {
   "cell_type": "code",
   "execution_count": null,
   "metadata": {
    "tags": []
   },
   "outputs": [],
   "source": [
    "cd $PROJECT_ROOT/build/$APP_NAME/$FN_NAME && \\\n",
    "fn deploy -v --app $APP_NAME"
   ]
  },
  {
   "cell_type": "markdown",
   "metadata": {},
   "source": [
    "Setup OCI Event rule:\n",
    "\n",
    "1. Create the Event rule in compartment `DEMO`.\n",
    "1. Select the service name *Object Storage*.\n",
    "1. Chose the following event types:\n",
    "    * `Object - Create`\n",
    "    * `Object - Update`\n",
    "    * `Object - Delete`\n",
    "1. Add a condition *Attribute* using the attribute name *bucketName*. Enter the value `scans`.\n",
    "1. Enable logging for troubleshooting."
   ]
  }
 ],
 "metadata": {
  "kernelspec": {
   "display_name": "Bash",
   "language": "bash",
   "name": "bash"
  },
  "language_info": {
   "codemirror_mode": {
    "name": "ipython",
    "version": 3
   },
   "file_extension": ".py",
   "mimetype": "text/x-python",
   "name": "python",
   "nbconvert_exporter": "python",
   "pygments_lexer": "ipython3",
   "version": "3.8.5"
  },
  "metadata": {
   "interpreter": {
    "hash": "767d51c1340bd893661ea55ea3124f6de3c7a262a8b4abca0554b478b1e2ff90"
   }
  },
  "orig_nbformat": 2
 },
 "nbformat": 4,
 "nbformat_minor": 2
}
