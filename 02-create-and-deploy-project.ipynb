{
 "cells": [
  {
   "cell_type": "markdown",
   "metadata": {},
   "source": [
    "# Create and Deploy the Thumbnail Generator\n",
    "\n"
   ]
  },
  {
   "cell_type": "markdown",
   "metadata": {},
   "source": [
    "## Create the Template Application\n",
    "\n",
    "Load environment variables:"
   ]
  },
  {
   "cell_type": "markdown",
   "metadata": {},
   "source": [
    ". demo.env"
   ]
  },
  {
   "cell_type": "markdown",
   "metadata": {},
   "source": [
    "Create the Oracle Function Application directory:"
   ]
  },
  {
   "cell_type": "code",
   "execution_count": null,
   "metadata": {},
   "outputs": [],
   "source": [
    "mkdir -p build/$APP_NAME && cd build/$APP_NAME"
   ]
  },
  {
   "cell_type": "markdown",
   "metadata": {},
   "source": [
    "Initialise the Fn project:"
   ]
  },
  {
   "cell_type": "code",
   "execution_count": null,
   "metadata": {},
   "outputs": [],
   "source": [
    "fn init --runtime python $FN_NAME"
   ]
  },
  {
   "cell_type": "markdown",
   "metadata": {},
   "source": [
    "Create the application using the subnet specified by the environment variable `SUBNET_OCID`:"
   ]
  },
  {
   "cell_type": "code",
   "execution_count": null,
   "metadata": {},
   "outputs": [],
   "source": [
    "fn create app $APP_NAME --annotation oracle.com/oci/subnetIds=[\\\"$SUBNET_OCID\\\"]"
   ]
  },
  {
   "cell_type": "markdown",
   "metadata": {},
   "source": [
    "Deploy the function:"
   ]
  },
  {
   "cell_type": "code",
   "execution_count": null,
   "metadata": {},
   "outputs": [],
   "source": [
    "cd $FN_NAME && \\\n",
    "fn deploy -v --app $APP_NAME"
   ]
  },
  {
   "cell_type": "markdown",
   "metadata": {},
   "source": [
    "Invoke the function:"
   ]
  },
  {
   "cell_type": "code",
   "execution_count": null,
   "metadata": {},
   "outputs": [],
   "source": [
    "fn invoke $APP_NAME $FN_NAME"
   ]
  },
  {
   "cell_type": "markdown",
   "metadata": {},
   "source": [
    "## OCI Logging\n",
    "\n",
    "Enable logging for the Oracle Function, create the log group `Demo_Log_Group`.\n",
    "Reinvoke the function and review the OCI logs."
   ]
  },
  {
   "cell_type": "markdown",
   "metadata": {},
   "source": [
    "## Update the Application to Generate Thumbnails\n",
    "\n",
    "> **Note**. The same code contains a custom `Dockerfile` as we will be using the Python package [*python-magic\"](https://pypi.org/project/python-magic/) that is used to obtain the MIME type of the image file. This package has a dependency on the *libmagic* C library and will need to be installed.\n",
    "\n",
    "Copy the sample code into the Fn project directory:"
   ]
  },
  {
   "cell_type": "code",
   "execution_count": null,
   "metadata": {},
   "outputs": [],
   "source": [
    "cd $PROJECT_ROOT && \\\n",
    "cp -r sample-code/$APP_NAME/$FN_NAME/* build/$APP_NAME/$FN_NAME/"
   ]
  },
  {
   "cell_type": "markdown",
   "metadata": {},
   "source": [
    "Configure the application's parameters:"
   ]
  },
  {
   "cell_type": "code",
   "execution_count": null,
   "metadata": {},
   "outputs": [],
   "source": [
    "fn config app $APP_NAME output_bucket thumbnails && \\\n",
    "fn config app $APP_NAME thumbnail_size_pixels 256"
   ]
  },
  {
   "cell_type": "markdown",
   "metadata": {},
   "source": [
    "Re-deploy the function:"
   ]
  },
  {
   "cell_type": "code",
   "execution_count": null,
   "metadata": {},
   "outputs": [],
   "source": [
    "cd $PROJECT_ROOT/build/$APP_NAME/$FN_NAME && \\\n",
    "fn deploy -v --app $APP_NAME"
   ]
  },
  {
   "cell_type": "markdown",
   "metadata": {},
   "source": [
    "## Final Demonstration with Events\n",
    "\n",
    "1. Create the Event rule in compartment `DEMO`.\n",
    "1. Select the service name *Object Storage*.\n",
    "1. Chose the following event types:\n",
    "    * `Object - Create`\n",
    "    * `Object - Update`\n",
    "    * `Object - Delete`\n",
    "1. Add a condition *Attribute* using the attribute name *bucketName*. Enter the value `photos`.\n",
    "1. Enable logging for troubleshooting."
   ]
  }
 ],
 "metadata": {
  "kernelspec": {
   "display_name": "Bash",
   "language": "bash",
   "name": "bash"
  },
  "language_info": {
   "codemirror_mode": {
    "name": "ipython",
    "version": 3
   },
   "file_extension": ".py",
   "mimetype": "text/x-python",
   "name": "python",
   "nbconvert_exporter": "python",
   "pygments_lexer": "ipython3",
   "version": "3.8.5"
  },
  "metadata": {
   "interpreter": {
    "hash": "767d51c1340bd893661ea55ea3124f6de3c7a262a8b4abca0554b478b1e2ff90"
   }
  },
  "orig_nbformat": 2
 },
 "nbformat": 4,
 "nbformat_minor": 2
}
