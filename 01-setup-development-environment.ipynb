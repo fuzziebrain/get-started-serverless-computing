{
 "metadata": {
  "language_info": {
   "codemirror_mode": {
    "name": "ipython",
    "version": 3
   },
   "file_extension": ".py",
   "mimetype": "text/x-python",
   "name": "python",
   "nbconvert_exporter": "python",
   "pygments_lexer": "ipython3",
   "version": "3.8.5"
  },
  "orig_nbformat": 2,
  "kernelspec": {
   "name": "bash",
   "display_name": "Bash",
   "language": "bash"
  }
 },
 "nbformat": 4,
 "nbformat_minor": 2,
 "cells": [
  {
   "source": [
    "# Setup Development Environment\n",
    "\n",
    "This notebook walks you through the steps needed to setup your development environment for Oracle Functions.\n",
    "\n",
    "## Prerequisites\n",
    "\n",
    "The following software **must** be installed:\n",
    "\n",
    "1. Docker\n",
    "1. Python 3\n"
   ],
   "cell_type": "markdown",
   "metadata": {}
  },
  {
   "source": [
    "## Step 1 - Install the OCI Command Line Interface (CLI)\n",
    "\n",
    "The following command installs the OCI CLI with the all the defaults:"
   ],
   "cell_type": "markdown",
   "metadata": {}
  },
  {
   "source": [
    "bash -c \"$(curl -L https://raw.githubusercontent.com/oracle/oci-cli/master/scripts/install/install.sh)\" -- --accept-all-defaults"
   ],
   "cell_type": "code",
   "metadata": {},
   "execution_count": null,
   "outputs": []
  },
  {
   "source": [
    "## Step 2 - Install Fn CLI\n"
   ],
   "cell_type": "markdown",
   "metadata": {}
  },
  {
   "cell_type": "code",
   "execution_count": null,
   "metadata": {},
   "outputs": [],
   "source": [
    "!curl -LSs https://raw.githubusercontent.com/fnproject/cli/master/install | sh"
   ]
  }
 ]
}