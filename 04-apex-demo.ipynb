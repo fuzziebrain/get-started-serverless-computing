{
 "metadata": {
  "language_info": {
   "codemirror_mode": {
    "name": "ipython",
    "version": 3
   },
   "file_extension": ".py",
   "mimetype": "text/x-python",
   "name": "python",
   "nbconvert_exporter": "python",
   "pygments_lexer": "ipython3",
   "version": "3.8.5"
  },
  "orig_nbformat": 2,
  "kernelspec": {
   "name": "bash",
   "display_name": "Bash",
   "language": "bash"
  },
  "metadata": {
   "interpreter": {
    "hash": "767d51c1340bd893661ea55ea3124f6de3c7a262a8b4abca0554b478b1e2ff90"
   }
  }
 },
 "nbformat": 4,
 "nbformat_minor": 2,
 "cells": [
  {
   "source": [
    "# APEX Demo\n",
    "\n",
    "## Develop and Deploy\n",
    "\n",
    "Load environment variables:\n"
   ],
   "cell_type": "markdown",
   "metadata": {}
  },
  {
   "cell_type": "code",
   "execution_count": null,
   "metadata": {},
   "outputs": [],
   "source": [
    ". kscope21-apex.env"
   ]
  },
  {
   "source": [
    "Initialise the Fn project:"
   ],
   "cell_type": "markdown",
   "metadata": {}
  },
  {
   "cell_type": "code",
   "execution_count": null,
   "metadata": {},
   "outputs": [],
   "source": [
    "mkdir -p $PROJECT_ROOT/build/$APP_NAME && \\\n",
    "cd $PROJECT_ROOT/build/$APP_NAME"
   ]
  },
  {
   "source": [
    "Copy the sample code into the Fn project directory:"
   ],
   "cell_type": "markdown",
   "metadata": {}
  },
  {
   "cell_type": "code",
   "execution_count": null,
   "metadata": {},
   "outputs": [],
   "source": [
    "cp -r $PROJECT_ROOT/sample-code/$APP_NAME/$FN_NAME $PROJECT_ROOT/build/$APP_NAME/"
   ]
  },
  {
   "source": [
    "Create the application using the subnet specified by the environment variable `SUBNET_OCID`:"
   ],
   "cell_type": "markdown",
   "metadata": {}
  },
  {
   "cell_type": "code",
   "execution_count": null,
   "metadata": {},
   "outputs": [],
   "source": [
    "fn create app $APP_NAME --annotation oracle.com/oci/subnetIds=[\\\"$SUBNET_OCID\\\"]"
   ]
  },
  {
   "source": [
    "Deploy the function:"
   ],
   "cell_type": "markdown",
   "metadata": {}
  },
  {
   "cell_type": "code",
   "execution_count": null,
   "metadata": {
    "tags": []
   },
   "outputs": [],
   "source": [
    "cd $PROJECT_ROOT/build/$APP_NAME/$FN_NAME && \\\n",
    "fn deploy -v --app $APP_NAME"
   ]
  },
  {
   "source": [
    "Test the function:"
   ],
   "cell_type": "markdown",
   "metadata": {}
  },
  {
   "cell_type": "code",
   "execution_count": null,
   "metadata": {},
   "outputs": [],
   "source": [
    "echo \"{ \\\"first_addend\\\": 215, \\\"second_addend\\\": 751 }\" | fn invoke calculator add"
   ]
  }
 ]
}